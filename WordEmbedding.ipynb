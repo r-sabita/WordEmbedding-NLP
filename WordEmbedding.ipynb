{
 "cells": [
  {
   "cell_type": "markdown",
   "metadata": {},
   "source": [
    "## Word Embedding Techniques using Embedding Layer in Keras"
   ]
  },
  {
   "cell_type": "code",
   "execution_count": 1,
   "metadata": {},
   "outputs": [],
   "source": [
    "import numpy as np\n",
    "import tensorflow \n",
    "import keras\n",
    "\n",
    "from tensorflow.keras.preprocessing.text import one_hot\n",
    "from tensorflow.keras.layers import Embedding\n",
    "from tensorflow.keras.preprocessing.sequence import pad_sequences\n",
    "from tensorflow.keras.models import Sequential"
   ]
  },
  {
   "cell_type": "code",
   "execution_count": 2,
   "metadata": {},
   "outputs": [
    {
     "data": {
      "text/plain": [
       "['I am sabita rajbanshi',\n",
       " 'I am a software engineer',\n",
       " 'I am currently learning Machine Learning',\n",
       " 'Artificial intelligence is the future of humankind',\n",
       " '2021 Learnings AI ML DL DS']"
      ]
     },
     "execution_count": 2,
     "metadata": {},
     "output_type": "execute_result"
    }
   ],
   "source": [
    "sentences = [\n",
    "    'I am sabita rajbanshi',\n",
    "    'I am a software engineer',\n",
    "    'I am currently learning Machine Learning',\n",
    "    'Artificial intelligence is the future of humankind',\n",
    "    '2021 Learnings AI ML DL DS'\n",
    "]\n",
    "\n",
    "sentences"
   ]
  },
  {
   "cell_type": "markdown",
   "metadata": {},
   "source": [
    "### initialize the vocabulary size=10000"
   ]
  },
  {
   "cell_type": "code",
   "execution_count": 3,
   "metadata": {},
   "outputs": [],
   "source": [
    "vocab_size = 10000"
   ]
  },
  {
   "cell_type": "markdown",
   "metadata": {},
   "source": [
    "### one hot representation of word"
   ]
  },
  {
   "cell_type": "code",
   "execution_count": 4,
   "metadata": {},
   "outputs": [
    {
     "data": {
      "text/plain": [
       "[[9005, 2674, 1744, 9315],\n",
       " [9005, 2674, 3704, 2529, 4806],\n",
       " [9005, 2674, 461, 692, 8110, 692],\n",
       " [1358, 803, 2149, 9980, 5358, 5226, 1692],\n",
       " [1294, 3585, 2213, 125, 4093, 7972]]"
      ]
     },
     "execution_count": 4,
     "metadata": {},
     "output_type": "execute_result"
    }
   ],
   "source": [
    "onehot_repre = [one_hot(words, vocab_size) for words in sentences]\n",
    "onehot_repre"
   ]
  },
  {
   "cell_type": "markdown",
   "metadata": {},
   "source": [
    "### word embedding representation"
   ]
  },
  {
   "cell_type": "code",
   "execution_count": 5,
   "metadata": {},
   "outputs": [
    {
     "name": "stdout",
     "output_type": "stream",
     "text": [
      "[[   0    0    0    0 9005 2674 1744 9315]\n",
      " [   0    0    0 9005 2674 3704 2529 4806]\n",
      " [   0    0 9005 2674  461  692 8110  692]\n",
      " [   0 1358  803 2149 9980 5358 5226 1692]\n",
      " [   0    0 1294 3585 2213  125 4093 7972]]\n"
     ]
    }
   ],
   "source": [
    "length_of_sentence = 8\n",
    "embedded_docs = pad_sequences(onehot_repre, padding='pre', maxlen=length_of_sentence)\n",
    "print(embedded_docs)"
   ]
  },
  {
   "cell_type": "markdown",
   "metadata": {},
   "source": [
    "### initialize the dimension of feature"
   ]
  },
  {
   "cell_type": "code",
   "execution_count": 6,
   "metadata": {},
   "outputs": [],
   "source": [
    "dim=8\n",
    "model = Sequential()\n",
    "model.add(Embedding(vocab_size, 8, input_length=length_of_sentence))\n"
   ]
  },
  {
   "cell_type": "code",
   "execution_count": 7,
   "metadata": {},
   "outputs": [
    {
     "name": "stdout",
     "output_type": "stream",
     "text": [
      "Model: \"sequential\"\n",
      "_________________________________________________________________\n",
      "Layer (type)                 Output Shape              Param #   \n",
      "=================================================================\n",
      "embedding (Embedding)        (None, 8, 8)              80000     \n",
      "=================================================================\n",
      "Total params: 80,000\n",
      "Trainable params: 80,000\n",
      "Non-trainable params: 0\n",
      "_________________________________________________________________\n"
     ]
    }
   ],
   "source": [
    "model.summary()"
   ]
  },
  {
   "cell_type": "code",
   "execution_count": 8,
   "metadata": {},
   "outputs": [
    {
     "data": {
      "text/plain": [
       "array([   0,    0,    0,    0, 9005, 2674, 1744, 9315])"
      ]
     },
     "execution_count": 8,
     "metadata": {},
     "output_type": "execute_result"
    }
   ],
   "source": [
    "embedded_docs[0]"
   ]
  },
  {
   "cell_type": "code",
   "execution_count": 9,
   "metadata": {},
   "outputs": [
    {
     "name": "stdout",
     "output_type": "stream",
     "text": [
      "WARNING:tensorflow:Model was constructed with shape (None, 8) for input Tensor(\"embedding_input:0\", shape=(None, 8), dtype=float32), but it was called on an input with incompatible shape (None, 1).\n",
      "[[[ 0.0033016  -0.01605767  0.02693038 -0.02690777 -0.03101271\n",
      "    0.03553862 -0.04609522 -0.04709435]]\n",
      "\n",
      " [[ 0.0033016  -0.01605767  0.02693038 -0.02690777 -0.03101271\n",
      "    0.03553862 -0.04609522 -0.04709435]]\n",
      "\n",
      " [[ 0.0033016  -0.01605767  0.02693038 -0.02690777 -0.03101271\n",
      "    0.03553862 -0.04609522 -0.04709435]]\n",
      "\n",
      " [[ 0.0033016  -0.01605767  0.02693038 -0.02690777 -0.03101271\n",
      "    0.03553862 -0.04609522 -0.04709435]]\n",
      "\n",
      " [[ 0.02082952 -0.04860653  0.00728057  0.00022098 -0.02012602\n",
      "    0.02457568 -0.02631199  0.04604   ]]\n",
      "\n",
      " [[-0.02315918 -0.02615763  0.00204688  0.00116062  0.00733156\n",
      "   -0.01977913 -0.00104349  0.01091676]]\n",
      "\n",
      " [[-0.0455346  -0.04452446  0.04850023  0.0086147  -0.04118424\n",
      "   -0.02724919 -0.01218033  0.03247603]]\n",
      "\n",
      " [[-0.02772031  0.04763781  0.03797758 -0.01002715 -0.01011012\n",
      "    0.04292928 -0.01787959  0.00058595]]]\n"
     ]
    }
   ],
   "source": [
    "print(model.predict(embedded_docs[0]))"
   ]
  },
  {
   "cell_type": "code",
   "execution_count": 10,
   "metadata": {},
   "outputs": [
    {
     "data": {
      "text/plain": [
       "array([   0, 1358,  803, 2149, 9980, 5358, 5226, 1692])"
      ]
     },
     "execution_count": 10,
     "metadata": {},
     "output_type": "execute_result"
    }
   ],
   "source": [
    "embedded_docs[3]"
   ]
  },
  {
   "cell_type": "code",
   "execution_count": 11,
   "metadata": {},
   "outputs": [
    {
     "name": "stdout",
     "output_type": "stream",
     "text": [
      "[[[ 0.0033016  -0.01605767  0.02693038 -0.02690777 -0.03101271\n",
      "    0.03553862 -0.04609522 -0.04709435]]\n",
      "\n",
      " [[-0.03725219 -0.01219546 -0.00835402  0.00229014  0.0344064\n",
      "   -0.01500027 -0.04896067 -0.0161113 ]]\n",
      "\n",
      " [[ 0.03020997 -0.04469751  0.03684596  0.00619174 -0.0052335\n",
      "    0.01779931  0.03512359 -0.03447522]]\n",
      "\n",
      " [[ 0.0408465  -0.01222742  0.03142723  0.04469771  0.01234747\n",
      "   -0.00493886 -0.04436953 -0.03363061]]\n",
      "\n",
      " [[ 0.04926104  0.03425983 -0.04355545  0.00351394  0.03128134\n",
      "    0.04983873  0.03370788 -0.03065666]]\n",
      "\n",
      " [[-0.03834613 -0.03809262  0.02464939 -0.02476969 -0.0321218\n",
      "    0.00021293 -0.01050995  0.02176214]]\n",
      "\n",
      " [[-0.03546915  0.04512483 -0.00190216 -0.00581015 -0.02060771\n",
      "    0.04437163  0.02019162  0.04645814]]\n",
      "\n",
      " [[-0.04231635  0.00809456  0.04768876  0.00191092  0.01065684\n",
      "   -0.01744119 -0.01765461 -0.00984139]]]\n"
     ]
    }
   ],
   "source": [
    "print(model.predict(embedded_docs[3]))"
   ]
  },
  {
   "cell_type": "code",
   "execution_count": null,
   "metadata": {},
   "outputs": [],
   "source": []
  }
 ],
 "metadata": {
  "kernelspec": {
   "display_name": "Python 3",
   "language": "python",
   "name": "python3"
  },
  "language_info": {
   "codemirror_mode": {
    "name": "ipython",
    "version": 3
   },
   "file_extension": ".py",
   "mimetype": "text/x-python",
   "name": "python",
   "nbconvert_exporter": "python",
   "pygments_lexer": "ipython3",
   "version": "3.8.3"
  }
 },
 "nbformat": 4,
 "nbformat_minor": 4
}
